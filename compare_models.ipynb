{
 "cells": [
  {
   "cell_type": "markdown",
   "metadata": {},
   "source": [
    "# Skore - user testing"
   ]
  },
  {
   "cell_type": "code",
   "execution_count": 1,
   "metadata": {},
   "outputs": [],
   "source": [
    "import matplotlib.pyplot as plt\n",
    "import numpy as np\n",
    "import pandas as pd\n",
    "import skore\n",
    "from sklearn.datasets import fetch_california_housing\n",
    "from sklearn.ensemble import (HistGradientBoostingRegressor,\n",
    "                              RandomForestRegressor)"
   ]
  },
  {
   "cell_type": "code",
   "execution_count": 2,
   "metadata": {},
   "outputs": [
    {
     "name": "stdout",
     "output_type": "stream",
     "text": [
      "\n",
      "System:\n",
      "    python: 3.12.4 | packaged by Anaconda, Inc. | (main, Jun 18 2024, 10:07:17) [Clang 14.0.6 ]\n",
      "executable: /Users/sylvaincom/Documents/GitHub/skore-user-test/.venv/bin/python\n",
      "   machine: macOS-15.1.1-arm64-arm-64bit\n",
      "\n",
      "Python dependencies:\n",
      "        skore: 0.6.1\n",
      "          pip: 24.3.1\n",
      "   setuptools: None\n",
      "    diskcache: 5.6.3\n",
      "      fastapi: 0.115.5\n",
      "       joblib: 1.4.2\n",
      "   matplotlib: 3.9.2\n",
      "        numpy: 2.1.3\n",
      "       pandas: 2.2.3\n",
      "       plotly: 5.24.1\n",
      "      pyarrow: 19.0.0\n",
      "         rich: 13.9.4\n",
      " scikit-learn: 1.5.2\n",
      "        skops: 0.10.0\n",
      "      uvicorn: 0.32.1\n"
     ]
    }
   ],
   "source": [
    "skore.show_versions()"
   ]
  },
  {
   "cell_type": "markdown",
   "metadata": {},
   "source": [
    "## Load the data"
   ]
  },
  {
   "cell_type": "code",
   "execution_count": null,
   "metadata": {},
   "outputs": [],
   "source": [
    "X, y = fetch_california_housing(return_X_y=True)"
   ]
  },
  {
   "cell_type": "markdown",
   "metadata": {},
   "source": [
    "## Explore the data (~15 min)\n",
    "\n",
    "Goal: Using skore, build a report (skore dashboard) of the data exploration to bring your team members up to speed!\n",
    "\n",
    "Some ideas to get you started:\n",
    "- How many features are they?\n",
    "- Are there missing values?\n",
    "- Which features are categorical? Continuous?\n",
    "- Should some data be transformed and/or combined to create more pertinent features?"
   ]
  },
  {
   "cell_type": "code",
   "execution_count": null,
   "metadata": {},
   "outputs": [],
   "source": [
    "# write your code here"
   ]
  },
  {
   "cell_type": "markdown",
   "metadata": {},
   "source": [
    "## Evaluate some models (~20 min)\n",
    "\n",
    "Goal: two models are proposed to you:"
   ]
  },
  {
   "cell_type": "code",
   "execution_count": null,
   "metadata": {},
   "outputs": [],
   "source": [
    "rf_regressor = RandomForestRegressor(\n",
    "    min_samples_leaf=5, random_state=0, n_estimators=15\n",
    ")\n",
    "boost_regressor = HistGradientBoostingRegressor(\n",
    "    max_leaf_nodes=15, random_state=0, max_iter=15\n",
    ")"
   ]
  },
  {
   "cell_type": "markdown",
   "metadata": {},
   "source": [
    "Which one would be the best?"
   ]
  },
  {
   "cell_type": "code",
   "execution_count": null,
   "metadata": {},
   "outputs": [],
   "source": [
    "# write your code here"
   ]
  },
  {
   "cell_type": "markdown",
   "metadata": {},
   "source": []
  }
 ],
 "metadata": {
  "kernelspec": {
   "display_name": ".venv",
   "language": "python",
   "name": "python3"
  },
  "language_info": {
   "codemirror_mode": {
    "name": "ipython",
    "version": 3
   },
   "file_extension": ".py",
   "mimetype": "text/x-python",
   "name": "python",
   "nbconvert_exporter": "python",
   "pygments_lexer": "ipython3",
   "version": "3.12.4"
  }
 },
 "nbformat": 4,
 "nbformat_minor": 2
}
